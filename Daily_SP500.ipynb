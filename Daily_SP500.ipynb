{
  "cells": [
    {
      "cell_type": "markdown",
      "metadata": {
        "id": "view-in-github",
        "colab_type": "text"
      },
      "source": [
        "<a href=\"https://colab.research.google.com/github/bobxia83/TA/blob/main/Daily_SP500.ipynb\" target=\"_parent\"><img src=\"https://colab.research.google.com/assets/colab-badge.svg\" alt=\"Open In Colab\"/></a>"
      ]
    },
    {
      "cell_type": "code",
      "source": [
        "pip install yfinance\n"
      ],
      "metadata": {
        "colab": {
          "base_uri": "https://localhost:8080/"
        },
        "id": "euqU-OHBz5qR",
        "outputId": "ff178c93-257b-4b38-81b4-c8ffac756af7"
      },
      "id": "euqU-OHBz5qR",
      "execution_count": 4,
      "outputs": [
        {
          "output_type": "stream",
          "name": "stdout",
          "text": [
            "Looking in indexes: https://pypi.org/simple, https://us-python.pkg.dev/colab-wheels/public/simple/\n",
            "Collecting yfinance\n",
            "  Downloading yfinance-0.2.9-py2.py3-none-any.whl (55 kB)\n",
            "\u001b[2K     \u001b[90m━━━━━━━━━━━━━━━━━━━━━━━━━━━━━━━━━━━━━━━━\u001b[0m \u001b[32m55.9/55.9 KB\u001b[0m \u001b[31m3.0 MB/s\u001b[0m eta \u001b[36m0:00:00\u001b[0m\n",
            "\u001b[?25hRequirement already satisfied: pandas>=1.3.0 in /usr/local/lib/python3.8/dist-packages (from yfinance) (1.3.5)\n",
            "Collecting beautifulsoup4>=4.11.1\n",
            "  Downloading beautifulsoup4-4.11.1-py3-none-any.whl (128 kB)\n",
            "\u001b[2K     \u001b[90m━━━━━━━━━━━━━━━━━━━━━━━━━━━━━━━━━━━━━━━\u001b[0m \u001b[32m128.2/128.2 KB\u001b[0m \u001b[31m7.1 MB/s\u001b[0m eta \u001b[36m0:00:00\u001b[0m\n",
            "\u001b[?25hCollecting html5lib>=1.1\n",
            "  Downloading html5lib-1.1-py2.py3-none-any.whl (112 kB)\n",
            "\u001b[2K     \u001b[90m━━━━━━━━━━━━━━━━━━━━━━━━━━━━━━━━━━━━━━\u001b[0m \u001b[32m112.2/112.2 KB\u001b[0m \u001b[31m16.6 MB/s\u001b[0m eta \u001b[36m0:00:00\u001b[0m\n",
            "\u001b[?25hCollecting frozendict>=2.3.4\n",
            "  Downloading frozendict-2.3.4-cp38-cp38-manylinux_2_17_x86_64.manylinux2014_x86_64.whl (110 kB)\n",
            "\u001b[2K     \u001b[90m━━━━━━━━━━━━━━━━━━━━━━━━━━━━━━━━━━━━━━\u001b[0m \u001b[32m111.0/111.0 KB\u001b[0m \u001b[31m13.1 MB/s\u001b[0m eta \u001b[36m0:00:00\u001b[0m\n",
            "\u001b[?25hRequirement already satisfied: pytz>=2022.5 in /usr/local/lib/python3.8/dist-packages (from yfinance) (2022.7)\n",
            "Requirement already satisfied: multitasking>=0.0.7 in /usr/local/lib/python3.8/dist-packages (from yfinance) (0.0.11)\n",
            "Requirement already satisfied: lxml>=4.9.1 in /usr/local/lib/python3.8/dist-packages (from yfinance) (4.9.2)\n",
            "Requirement already satisfied: appdirs>=1.4.4 in /usr/local/lib/python3.8/dist-packages (from yfinance) (1.4.4)\n",
            "Requirement already satisfied: numpy>=1.16.5 in /usr/local/lib/python3.8/dist-packages (from yfinance) (1.21.6)\n",
            "Collecting requests>=2.26\n",
            "  Downloading requests-2.28.2-py3-none-any.whl (62 kB)\n",
            "\u001b[2K     \u001b[90m━━━━━━━━━━━━━━━━━━━━━━━━━━━━━━━━━━━━━━━━\u001b[0m \u001b[32m62.8/62.8 KB\u001b[0m \u001b[31m9.5 MB/s\u001b[0m eta \u001b[36m0:00:00\u001b[0m\n",
            "\u001b[?25hCollecting cryptography>=3.3.2\n",
            "  Downloading cryptography-39.0.0-cp36-abi3-manylinux_2_28_x86_64.whl (4.2 MB)\n",
            "\u001b[2K     \u001b[90m━━━━━━━━━━━━━━━━━━━━━━━━━━━━━━━━━━━━━━━━\u001b[0m \u001b[32m4.2/4.2 MB\u001b[0m \u001b[31m62.4 MB/s\u001b[0m eta \u001b[36m0:00:00\u001b[0m\n",
            "\u001b[?25hCollecting soupsieve>1.2\n",
            "  Downloading soupsieve-2.3.2.post1-py3-none-any.whl (37 kB)\n",
            "Requirement already satisfied: cffi>=1.12 in /usr/local/lib/python3.8/dist-packages (from cryptography>=3.3.2->yfinance) (1.15.1)\n",
            "Requirement already satisfied: webencodings in /usr/local/lib/python3.8/dist-packages (from html5lib>=1.1->yfinance) (0.5.1)\n",
            "Requirement already satisfied: six>=1.9 in /usr/local/lib/python3.8/dist-packages (from html5lib>=1.1->yfinance) (1.15.0)\n",
            "Requirement already satisfied: python-dateutil>=2.7.3 in /usr/local/lib/python3.8/dist-packages (from pandas>=1.3.0->yfinance) (2.8.2)\n",
            "Requirement already satisfied: idna<4,>=2.5 in /usr/local/lib/python3.8/dist-packages (from requests>=2.26->yfinance) (2.10)\n",
            "Requirement already satisfied: charset-normalizer<4,>=2 in /usr/local/lib/python3.8/dist-packages (from requests>=2.26->yfinance) (2.1.1)\n",
            "Requirement already satisfied: urllib3<1.27,>=1.21.1 in /usr/local/lib/python3.8/dist-packages (from requests>=2.26->yfinance) (1.24.3)\n",
            "Requirement already satisfied: certifi>=2017.4.17 in /usr/local/lib/python3.8/dist-packages (from requests>=2.26->yfinance) (2022.12.7)\n",
            "Requirement already satisfied: pycparser in /usr/local/lib/python3.8/dist-packages (from cffi>=1.12->cryptography>=3.3.2->yfinance) (2.21)\n",
            "Installing collected packages: soupsieve, requests, html5lib, frozendict, cryptography, beautifulsoup4, yfinance\n",
            "  Attempting uninstall: requests\n",
            "    Found existing installation: requests 2.25.1\n",
            "    Uninstalling requests-2.25.1:\n",
            "      Successfully uninstalled requests-2.25.1\n",
            "  Attempting uninstall: html5lib\n",
            "    Found existing installation: html5lib 1.0.1\n",
            "    Uninstalling html5lib-1.0.1:\n",
            "      Successfully uninstalled html5lib-1.0.1\n",
            "  Attempting uninstall: beautifulsoup4\n",
            "    Found existing installation: beautifulsoup4 4.6.3\n",
            "    Uninstalling beautifulsoup4-4.6.3:\n",
            "      Successfully uninstalled beautifulsoup4-4.6.3\n",
            "Successfully installed beautifulsoup4-4.11.1 cryptography-39.0.0 frozendict-2.3.4 html5lib-1.1 requests-2.28.2 soupsieve-2.3.2.post1 yfinance-0.2.9\n"
          ]
        }
      ]
    },
    {
      "cell_type": "code",
      "source": [
        "pip install ta"
      ],
      "metadata": {
        "colab": {
          "base_uri": "https://localhost:8080/"
        },
        "id": "hE6gE_ix0K1-",
        "outputId": "7c909b67-b28a-4019-b6a1-2abd6fe66f84"
      },
      "id": "hE6gE_ix0K1-",
      "execution_count": 5,
      "outputs": [
        {
          "output_type": "stream",
          "name": "stdout",
          "text": [
            "Looking in indexes: https://pypi.org/simple, https://us-python.pkg.dev/colab-wheels/public/simple/\n",
            "Requirement already satisfied: ta in /usr/local/lib/python3.8/dist-packages (0.10.2)\n",
            "Requirement already satisfied: numpy in /usr/local/lib/python3.8/dist-packages (from ta) (1.21.6)\n",
            "Requirement already satisfied: pandas in /usr/local/lib/python3.8/dist-packages (from ta) (1.3.5)\n",
            "Requirement already satisfied: python-dateutil>=2.7.3 in /usr/local/lib/python3.8/dist-packages (from pandas->ta) (2.8.2)\n",
            "Requirement already satisfied: pytz>=2017.3 in /usr/local/lib/python3.8/dist-packages (from pandas->ta) (2022.7)\n",
            "Requirement already satisfied: six>=1.5 in /usr/local/lib/python3.8/dist-packages (from python-dateutil>=2.7.3->pandas->ta) (1.15.0)\n"
          ]
        }
      ]
    },
    {
      "cell_type": "code",
      "source": [
        "pip install backtrader"
      ],
      "metadata": {
        "colab": {
          "base_uri": "https://localhost:8080/"
        },
        "id": "Ne6azUDh6ZUb",
        "outputId": "9f379638-8551-4821-d32f-fa4aa2c69457"
      },
      "id": "Ne6azUDh6ZUb",
      "execution_count": 6,
      "outputs": [
        {
          "output_type": "stream",
          "name": "stdout",
          "text": [
            "Looking in indexes: https://pypi.org/simple, https://us-python.pkg.dev/colab-wheels/public/simple/\n",
            "Collecting backtrader\n",
            "  Downloading backtrader-1.9.76.123-py2.py3-none-any.whl (410 kB)\n",
            "\u001b[2K     \u001b[90m━━━━━━━━━━━━━━━━━━━━━━━━━━━━━━━━━━━━━━━\u001b[0m \u001b[32m410.1/410.1 KB\u001b[0m \u001b[31m8.9 MB/s\u001b[0m eta \u001b[36m0:00:00\u001b[0m\n",
            "\u001b[?25hInstalling collected packages: backtrader\n",
            "Successfully installed backtrader-1.9.76.123\n"
          ]
        }
      ]
    },
    {
      "cell_type": "code",
      "execution_count": 7,
      "id": "c17ca054-95b2-4724-b533-66b13097a881",
      "metadata": {
        "id": "c17ca054-95b2-4724-b533-66b13097a881"
      },
      "outputs": [],
      "source": [
        "import yfinance as yf\n",
        "import pandas as pd\n",
        "import numpy as np\n",
        "import ta\n",
        "import backtrader as bt\n",
        "import matplotlib.pyplot as plt\n"
      ]
    },
    {
      "cell_type": "markdown",
      "source": [
        "Data"
      ],
      "metadata": {
        "id": "jDVEITqq82-0"
      },
      "id": "jDVEITqq82-0"
    },
    {
      "cell_type": "code",
      "execution_count": 8,
      "id": "b43d52e0-3cc2-40be-ac32-39bfa4514c7e",
      "metadata": {
        "id": "b43d52e0-3cc2-40be-ac32-39bfa4514c7e"
      },
      "outputs": [],
      "source": [
        "# Define the list of tickers\n",
        "ticker = [\"^GSPC\"]\n",
        "\n"
      ]
    },
    {
      "cell_type": "code",
      "execution_count": 9,
      "id": "995d8862-ed7e-45df-91ae-a33240bed882",
      "metadata": {
        "colab": {
          "base_uri": "https://localhost:8080/"
        },
        "id": "995d8862-ed7e-45df-91ae-a33240bed882",
        "outputId": "6b9f0731-4ac4-4d69-c774-d439ea29e1cb"
      },
      "outputs": [
        {
          "output_type": "stream",
          "name": "stdout",
          "text": [
            "\r[*********************100%***********************]  1 of 1 completed\n"
          ]
        }
      ],
      "source": [
        "# Download the data\n",
        "df = yf.download(ticker, start=\"1990-01-01\", end=\"2022-12-31\")\n",
        "\n",
        "\n",
        "high = df.High\n",
        "low = df.Low\n",
        "close = df.Close\n",
        "volume = df.Volume\n",
        "\n",
        "\n",
        "\n",
        "\n",
        "  "
      ]
    },
    {
      "cell_type": "code",
      "execution_count": 44,
      "id": "ef5f1818-e198-4001-82d6-b4c3c53e1a76",
      "metadata": {
        "colab": {
          "base_uri": "https://localhost:8080/"
        },
        "id": "ef5f1818-e198-4001-82d6-b4c3c53e1a76",
        "outputId": "43daffb6-18e4-43d4-948e-bb388eeb2cb8"
      },
      "outputs": [
        {
          "output_type": "stream",
          "name": "stderr",
          "text": [
            "/usr/local/lib/python3.8/dist-packages/ta/trend.py:780: RuntimeWarning: invalid value encountered in double_scalars\n",
            "  dip[idx] = 100 * (self._dip[idx] / value)\n",
            "/usr/local/lib/python3.8/dist-packages/ta/trend.py:785: RuntimeWarning: invalid value encountered in double_scalars\n",
            "  din[idx] = 100 * (self._din[idx] / value)\n"
          ]
        }
      ],
      "source": [
        "# Trend Indicators\n",
        "\n",
        "# EMA\n",
        "df['EMA50'] = ta.trend.EMAIndicator(close, 50).ema_indicator()\n",
        "df['EMA100'] = ta.trend.EMAIndicator(close, 100).ema_indicator()\n",
        "df['EMA200'] = ta.trend.EMAIndicator(close, 200).ema_indicator()\n",
        "\n",
        "# SMA\n",
        "df['SMA10'] = ta.trend.SMAIndicator(close, 10).sma_indicator()\n",
        "df['SMA20'] = ta.trend.SMAIndicator(close, 20).sma_indicator()\n",
        "df['SMA50'] = ta.trend.SMAIndicator(close, 50).sma_indicator()\n",
        "df['SMA100'] = ta.trend.SMAIndicator(close, 100).sma_indicator()\n",
        "df['SMA200'] = ta.trend.SMAIndicator(close, 200).sma_indicator()\n",
        "\n",
        "# ADX - Average Directional Movement Index, measures the strength of a trend, without regard to its direction.\n",
        "# ADX is a line that oscillates between 0 and 100, with values above 25 indicating a strong trend, and values below 20 indicating a weak trend or no trend at all. \n",
        "ADX_n = 14\n",
        "ADX_Strong = 25\n",
        "ADX_Weak = 20\n",
        "df['ADX_Neg'] = ta.trend.ADXIndicator(high, low, close,ADX_n).adx_neg()\n",
        "df['ADX_Pos'] = ta.trend.ADXIndicator(high, low, close,ADX_n).adx_pos()\n",
        "df['ADX'] = ta.trend.ADXIndicator(high, low, close,ADX_n).adx()\n",
        "df['Signal_ADX_Confirm'] = np.where(df.ADX > ADX_Strong, 1, 0)\n",
        "\n",
        "\n",
        "# Aroon Indicator, Identify when trends are likely to change direction.\n",
        "# The Aroon Up measures the number of periods since the highest high, while the Aroon Down measures the number of periods since the lowest low.\n",
        "# An Aroon Up value of 100 indicates that the current high is the highest high over the specified period, while an Aroon Down value of 100 indicates that the current low is the lowest low over the specified period.\n",
        "# When Aroon Up value is more than Aroon down that means uptrend is strong and vice-versa.\n",
        "# crossovers between the two indicators identify potential trend reversals\n",
        "## A buy signal is generated when the Aroon Up crosses above the Aroon Down, indicating that an uptrend is beginning, and a sell signal is generated when the Aroon Up crosses below the Aroon Down, indicating that a downtrend is beginning.\n",
        "## Buy or sell when the Aroon Up or Aroon Down reaches a certain level:70\n",
        "Aroon_n = 25\n",
        "Aroon_Level = 70\n",
        "df['Aroon_Down'] = ta.trend.AroonIndicator(close, Aroon_n).aroon_down()\n",
        "df['Aroon_Up'] = ta.trend.AroonIndicator(close, Aroon_n).aroon_up()\n",
        "df['Aroon'] = ta.trend.AroonIndicator(close, Aroon_n).aroon_indicator()\n",
        "\n",
        "df['Signal_Aroon_Cross'] = np.where(df.Aroon_Up > df.Aroon_Down, \"Buy\", \"Sell\")\n",
        "df['Signal_Aroon_Level_Buy'] = np.where(df.Aroon_Up > Aroon_Level, 1, 0)\n",
        "df['Signal_Aroon_Level_Sell'] = np.where(df.Aroon_Down > Aroon_Level, 1, 0)\n",
        "\n",
        "\n",
        "\n",
        "\n",
        "# CCI - Commodity Channel Index, measures the difference between a security’s price change and its average price change, used to identify overbought and oversold conditions\n",
        "# A positive CCI indicates that the security is trading above its statistical mean, which is considered to be an overbought condition.\n",
        "# A buy signal is generated when the CCI crosses above +100, and a sell signal is generated when the CCI crosses below -100. \n",
        "CCI_Level_Buy = 100\n",
        "CCI_Level_Sell = -100\n",
        "df['CCI'] = ta.trend.CCIIndicator(high, low, close, 20).cci()\n",
        "\n",
        "df['Signal_CCI_Buy'] = np.where(df.CCI > CCI_Level_Buy, 1,0)\n",
        "df['Signal_CCI_Sell'] = np.where(df.CCI < CCI_Level_Sell, 1,0)\n",
        "\n",
        "\n",
        "# Ichimoku,  is composed of five different lines, each with its own unique purpose\n",
        "# The Tenkan-sen line, also known as the Conversion Line, is a measure of the market's short-term trend. It is calculated by taking the average of the highest high and the lowest low over the past 9 periods.\n",
        "# The Kijun-sen line, also known as the Base Line, is a measure of the market's medium-term trend. It is calculated by taking the average of the highest high and the lowest low over the past 26 periods.\n",
        "# The Senkou Span A, also known as the Leading Span A, is a measure of the market's short-term future. It is calculated by taking the average of the Tenkan-sen and Kijun-sen lines and plotting it 26 periods ahead.\n",
        "# The Senkou Span B, also known as the Leading Span B, is a measure of the market's long-term trend. It is calculated by taking the average of the highest high and the lowest low over the past 52 periods and plotting it 26 periods ahead.\n",
        "#  The Chikou Span, also known as the Lagging Span, is a measure of the market's current price. It is calculated by plotting the closing price 26 periods behind.\n",
        "df['Ichimoku_a'] = ta.trend.IchimokuIndicator(high, low, 9, 26, 52).ichimoku_a()\n",
        "df['Ichimoku_b'] = ta.trend.IchimokuIndicator(high, low, 9, 26, 52).ichimoku_b()\n",
        "df['Ichimoku_Base'] = ta.trend.IchimokuIndicator(high, low, 9, 26, 52).ichimoku_base_line()\n",
        "df['Ichimoku_Conv'] = ta.trend.IchimokuIndicator(high, low, 9, 26, 52).ichimoku_conversion_line()\n",
        "\n",
        "#df.Ichimoku_a = df.Ichimoku_a.reindex(close.index)\n",
        "#df.Ichimoku_b = df.Ichimoku_b.reindex(close.index)\n",
        "\n",
        "df['Signal_Ichimoku_Buy_1'] = np.where(df.Ichimoku_Conv > df.Ichimoku_Base, 1, 0)\n",
        "#df['Signal_Ichimoku_Buy_2'] = np.where((close > df.Ichimoku_a) & (df.Ichimoku_a > df.Ichimoku_b), 1, 0)\n",
        "df['Signal_Ichimoku_Sell_1'] = np.where(df.Ichimoku_Conv < df.Ichimoku_Base, 1, 0)\n",
        "#df['Signal_Ichimoku_Sell_2'] = np.where((close < df.Ichimoku_a) & (df.Ichimoku_a < df.Ichimoku_b))\n",
        "\n",
        "  \n",
        "# KST (Know Sure Thing) , identify major stock market cycle junctures because its formula is weighed to be more greatly influenced by the longer and more dominant time spans, in order to better reflect the primary swings of stock market cycle\n",
        "# The indicator is a combination of four other indicators: the rate of change (ROC), the moving average (MA), the relative strength index (RSI), and the moving average convergence divergence (MACD). \n",
        "# ta.trend.KSTIndicator(close: pandas.core.series.Series, roc1: int = 10, roc2: int = 15, roc3: int = 20, roc4: int = 30, window1: int = 10, window2: int = 10, window3: int = 10, window4: int = 15, nsig: int = 9, fillna: bool = False)\n",
        "\n",
        "roc1 = 10   # The time periods (in number of periods) for the rate of change (ROC) calculations\n",
        "roc2 = 15\n",
        "roc3 = 20\n",
        "roc4 = 40\n",
        "smooth1 = 10    # The time periods (in number of periods) for the moving average (MA) calculations\n",
        "smooth2 = 10\n",
        "smooth3 = 10\n",
        "smooth4 = 15\n",
        "signal_kst = 9    # The time period (in number of periods) for the signal line calculation\n",
        "\n",
        "kst = ta.trend.KSTIndicator(close, roc1, roc2, roc3, roc4, smooth1, smooth2, smooth3, smooth4, signal_kst)\n",
        "\n",
        "df['KST'] = kst.kst()\n",
        "df['KST_Diff'] = kst.kst_diff()\n",
        "df['KST_Sig'] = kst.kst_sig()\n",
        "\n",
        "roc = ta.momentum.ROCIndicator(close, 12).roc()  # can also use other indicators like RSI, Stochastic, etc. along with KST indicator to confirm the trading signals. \n",
        "\n",
        "df['Signal_KST_ROC_Buy'] = (kst.kst() > kst.kst_sig()) & (roc > 0)\n",
        "df['Signal_KST_ROC_Sell'] = (kst.kst() < kst.kst_sig()) & (roc < 0)\n",
        "\n",
        "\n",
        "\n",
        "\n",
        "# MACD - Moving Average Convergence Divergence, shows the relationship between two moving averages\n",
        "# It is calculated by subtracting the 26-day exponential moving average (EMA) from the 12-day EMA. The resulting line is then compared to a 9-day EMA of the difference (the \"signal line\"), which is used as a trigger for buy and sell signals.\n",
        "# ta.trend.MACD(close: pandas.core.series.Series, window_slow: int = 26, window_fast: int = 12, window_sign: int = 9, fillna: bool = False)\n",
        "df['MACD'] = ta.trend.MACD(close, 26, 12, 9).macd()\n",
        "df['MACD_Diff'] = ta.trend.MACD(close, 26, 12, 9).macd_diff()\n",
        "df['MACD_Sig'] = ta.trend.MACD(close, 26, 12, 9).macd_signal()\n",
        "\n",
        "df['Signal_MACD'] = np.where(df.MACD > df.MACD_Sig, 1, -1)  # buy = 1, sell = -1\n",
        "\n",
        "# Detrended Price Oscillator (DPO), Is an indicator designed to remove trend from price and make it easier to identify cycles.\n",
        "# ta.trend.DPOIndicator(close: pandas.core.series.Series, window: int = 20, fillna: bool = False)\n",
        "df['DPO'] = ta.trend.DPOIndicator(close, 20).dpo()\n",
        "\n",
        "# Mass Index (MI),  uses the high-low range to identify trend reversals based on range expansions. It identifies range bulges that can foreshadow a reversal of the current trend.\n",
        "# ta.trend.MassIndex(high: pandas.core.series.Series, low: pandas.core.series.Series, window_fast: int = 9, window_slow: int = 25, fillna: bool = False)\n",
        "df['MI'] = ta.trend.MassIndex(high, low, 9, 25).mass_index()\n",
        "\n",
        "\n",
        "# Parabolic Stop and Reverse (Parabolic SAR), is displayed as a single parabolic line (or dots) underneath the price bars in an uptrend, and above the price bars in a downtrend.\n",
        "# ta.trend.PSARIndicator(high: pandas.core.series.Series, low: pandas.core.series.Series, close: pandas.core.series.Series, step: float = 0.02, max_step: float = 0.2, fillna: bool = False)\n",
        "df['PSAR'] = ta.trend.PSARIndicator(high, low, close, 0.02, 0.2).psar()\n",
        "df['PSAR_Down'] = ta.trend.PSARIndicator(high, low, close, 0.02, 0.2).psar_down()\n",
        "df['PSAR_Down_Indicator'] = ta.trend.PSARIndicator(high, low, close, 0.02, 0.2).psar_down_indicator()\n",
        "df['PSAR_Up'] = ta.trend.PSARIndicator(high, low, close, 0.02, 0.2).psar_up()\n",
        "df['PSAR_Up_Indicator'] = ta.trend.PSARIndicator(high, low, close, 0.02, 0.2).psar_up_indicator()\n",
        "\n",
        "\n",
        "\n",
        "# Schaff Trend Cycle (STC),  identify market trends and provide buy and sell signals, is a type of oscillator and is based on the assumption that, regardless of time frame, currency trends accelerate and decelerate in cyclical patterns\n",
        "# ta.trend.STCIndicator(close: pandas.core.series.Series, window_slow: int = 50, window_fast: int = 23, cycle: int = 10, smooth1: int = 3, smooth2: int = 3, fillna: bool = False)\n",
        "df['STC'] = ta.trend.STCIndicator(close, 50, 23, 10, 3, 3).stc()\n",
        "\n",
        "# Trix (TRIX), Shows the percent rate of change of a triple exponentially smoothed moving average.\n",
        "# ta.trend.TRIXIndicator(close: pandas.core.series.Series, window: int = 15, fillna: bool = False)\n",
        "df['TRIX'] = ta.trend.TRIXIndicator(close, 15).trix()\n",
        "\n",
        "\n",
        "# Vortex Indicator (VI), It consists of two oscillators that capture positive and negative trend movement. A bullish signal triggers when the positive trend indicator crosses above the negative trend indicator or a key level.\n",
        "# ta.trend.VortexIndicator(high: pandas.core.series.Series, low: pandas.core.series.Series, close: pandas.core.series.Series, window: int = 14, fillna: bool = False)\n",
        "df['Diff_VI'] = ta.trend.VortexIndicator(high, low, close, 14).vortex_indicator_diff()\n",
        "df['Neg_VI'] = ta.trend.VortexIndicator(high, low, close, 14).vortex_indicator_neg()\n",
        "df['Pos_VI'] = ta.trend.VortexIndicator(high, low, close, 14).vortex_indicator_pos()\n",
        "\n",
        "\n",
        "# WMA - Weighted Moving Average\n",
        "# ta.trend.WMAIndicator(close: pandas.core.series.Series, window: int = 9, fillna: bool = False)\n",
        "df['WMA'] = ta.trend.WMAIndicator(close, 9).wma()\n",
        "\n",
        "\n"
      ]
    },
    {
      "cell_type": "code",
      "source": [
        "plt.figure(figsize=(30,15))\n",
        "fig, ax = plt.subplots()\n",
        "ax.plot(df['MACD'], label='MACD')\n",
        "ax.plot(df['MACD_Diff'], label='MACD_Diff')\n",
        "ax.plot(df['MACD_Sig'], label='MACD_Sig')\n",
        "ax.legend(loc='best')\n",
        "plt.show()"
      ],
      "metadata": {
        "colab": {
          "base_uri": "https://localhost:8080/",
          "height": 282
        },
        "id": "HauH88iseJef",
        "outputId": "e1485ca4-768e-4288-d801-db6ecdaf0625"
      },
      "id": "HauH88iseJef",
      "execution_count": 45,
      "outputs": [
        {
          "output_type": "display_data",
          "data": {
            "text/plain": [
              "<Figure size 2160x1080 with 0 Axes>"
            ]
          },
          "metadata": {}
        },
        {
          "output_type": "display_data",
          "data": {
            "text/plain": [
              "<Figure size 432x288 with 1 Axes>"
            ],
            "image/png": "[encoded data removed]"
          },
          "metadata": {
            "needs_background": "light"
          }
        }
      ]
    },
    {
      "cell_type": "code",
      "execution_count": 11,
      "id": "f6595f53-a0e4-4736-bbfe-0af4d2c9a168",
      "metadata": {
        "id": "f6595f53-a0e4-4736-bbfe-0af4d2c9a168"
      },
      "outputs": [],
      "source": [
        "# Momentum Indicators\n",
        "\n",
        "\n",
        "# Awesome Oscillator, calculates the difference of a 34 Period and 5 Period Simple Moving Averages. The Simple Moving Averages that are used are not calculated using closing price but rather each bar’s midpoints. AO is generally used to affirm trends or to anticipate possible reversals.\n",
        "# ta.momentum.AwesomeOscillatorIndicator(high: pandas.core.series.Series, low: pandas.core.series.Series, window1: int = 5, window2: int = 34, fillna: bool = False)\n",
        "df['AO'] = ta.momentum.AwesomeOscillatorIndicator(high, low, 5,34).awesome_oscillator()\n",
        "\n",
        "\n",
        "# Kaufman’s Adaptive Moving Average (KAMA), Moving average designed to account for market noise or volatility, can be used to identify the overall trend, time turning points and filter price movements.\n",
        "# ta.momentum.KAMAIndicator(close: pandas.core.series.Series, window: int = 10, pow1: int = 2, pow2: int = 30, fillna: bool = False)\n",
        "df['KAMA'] = ta.momentum.KAMAIndicator(close, 10, 2, 30).kama()\n",
        "\n",
        "\n",
        "# The Percentage Price Oscillator (PPO) , measures the difference between two moving averages as a percentage of the larger moving average.\n",
        "# ta.momentum.PercentagePriceOscillator(close: pandas.core.series.Series, window_slow: int = 26, window_fast: int = 12, window_sign: int = 9, fillna: bool = False)\n",
        "df['PPO'] = ta.momentum.PercentagePriceOscillator(close, 26, 12, 9).ppo()\n",
        "df['PPO_Hist'] = ta.momentum.PercentagePriceOscillator(close, 26, 12, 9).ppo_hist()\n",
        "df['PPO_Signal'] = ta.momentum.PercentagePriceOscillator(close, 26, 12, 9).ppo_signal()\n",
        "\n",
        "\n",
        "# The Percentage Volume Oscillator (PVO), is a momentum oscillator for volume. measures the difference between two volume-based moving averages as a percentage of the larger moving average.\n",
        "# ta.momentum.PercentageVolumeOscillator(volume: pandas.core.series.Series, window_slow: int = 26, window_fast: int = 12, window_sign: int = 9, fillna: bool = False)\n",
        "df['PVO'] = ta.momentum.PercentageVolumeOscillator(volume, 26, 12, 5).pvo()\n",
        "df['PVO_Hist'] = ta.momentum.PercentageVolumeOscillator(volume, 26, 12, 5).pvo_hist()\n",
        "df['PVO_Signal'] = ta.momentum.PercentageVolumeOscillator(volume, 26, 12, 5).pvo_signal()\n",
        "\n",
        "# Rate of Change (ROC)\n",
        "# ta.momentum.ROCIndicator(close: pandas.core.series.Series, window: int = 12, fillna: bool = False)\n",
        "df['ROC'] = ta.momentum.ROCIndicator(close, 12).roc()\n",
        "\n",
        "\n",
        "# Relative Strength Index (RSI)\n",
        "# ta.momentum.RSIIndicator(close: pandas.core.series.Series, window: int = 14, fillna: bool = False)\n",
        "df['RSI'] = ta.momentum.RSIIndicator(close, 14).rsi()\n",
        "\n",
        "# Stochastic RSI, a more sensitive indicator that is attuned to a specific security’s historical performance rather than a generalized analysis of price change\n",
        "# ta.momentum.StochRSIIndicator(close: pandas.core.series.Series, window: int = 14, smooth1: int = 3, smooth2: int = 3, fillna: bool = False)\n",
        "df['Stoch_RSI'] = ta.momentum.StochRSIIndicator(close, 14, 3, 3).stochrsi()\n",
        "df['Stoch_RSI_D'] = ta.momentum.StochRSIIndicator(close, 14, 3, 3).stochrsi_d()\n",
        "df['Stoch_RSI_K'] = ta.momentum.StochRSIIndicator(close, 14, 3, 3).stochrsi_k()\n",
        "\n",
        "\n",
        "# Stochastic Oscillator,  presents the location of the closing price of a stock in relation to the high and low range of the price of a stock over a period of time, typically a 14-day period.\n",
        "# ta.momentum.StochasticOscillator(high: pandas.core.series.Series, low: pandas.core.series.Series, close: pandas.core.series.Series, window: int = 14, smooth_window: int = 3, fillna: bool = False)\n",
        "df['Stoch'] = ta.momentum.StochasticOscillator(high, low, close, 14, 3).stoch()\n",
        "df['Stoch_Sig'] = ta.momentum.StochasticOscillator(high, low, close, 14, 3).stoch_signal()\n",
        "\n",
        "\n",
        "# True strength index (TSI), Shows both trend direction and overbought/oversold conditions.\n",
        "# ta.momentum.TSIIndicator(close: pandas.core.series.Series, window_slow: int = 25, window_fast: int = 13, fillna: bool = False)\n",
        "df['TSI'] = ta.momentum.TSIIndicator(close, 25, 13).tsi()\n",
        "\n",
        "# Ultimate Oscillator,  designed to capture momentum across three different timeframes.\n",
        "# ta.momentum.UltimateOscillator(high: pandas.core.series.Series, low: pandas.core.series.Series, close: pandas.core.series.Series, window1: int = 7, window2: int = 14, window3: int = 28, weight1: float = 4.0, weight2: float = 2.0, weight3: float = 1.0, fillna: bool = False)\n",
        "df['Ult_Oscillator'] = ta.momentum.UltimateOscillator(high, low, close, 7, 14, 28, 4, 2, 1).ultimate_oscillator() \n",
        "\n",
        "# Williams %R\n",
        "# ta.momentum.WilliamsRIndicator(high: pandas.core.series.Series, low: pandas.core.series.Series, close: pandas.core.series.Series, lbp: int = 14, fillna: bool = False)\n",
        "df['Williams_R'] = ta.momentum.WilliamsRIndicator(high, low, close, 14).williams_r()\n",
        "\n",
        "\n",
        "\n"
      ]
    },
    {
      "cell_type": "code",
      "execution_count": 12,
      "id": "7c77a38d-c4b4-47b1-9ba6-afea1ffb849f",
      "metadata": {
        "id": "7c77a38d-c4b4-47b1-9ba6-afea1ffb849f"
      },
      "outputs": [],
      "source": [
        "# Volume Indicators\n",
        "\n",
        "# Accumulation/Distribution Index (ADI), Acting as leading indicator of price movements.\n",
        "# ta.volume.AccDistIndexIndicator(high: pandas.core.series.Series, low: pandas.core.series.Series, close: pandas.core.series.Series, volume: pandas.core.series.Series, fillna: bool = False)\n",
        "df['ADI'] = ta.volume.AccDistIndexIndicator(high, low, close, volume).acc_dist_index()\n",
        "\n",
        "\n",
        "# Chaikin Money Flow (CMF), measures the amount of Money Flow Volume over a specific period.\n",
        "# ta.volume.ChaikinMoneyFlowIndicator(high: pandas.core.series.Series, low: pandas.core.series.Series, close: pandas.core.series.Series, volume: pandas.core.series.Series, window: int = 20, fillna: bool = False)\n",
        "df['CMF'] = ta.volume.ChaikinMoneyFlowIndicator(high, low, close, volume).chaikin_money_flow()\n",
        "\n",
        "# Ease of movement (EoM, EMV), It relate an asset’s price change to its volume and is particularly useful for assessing the strength of a trend.\n",
        "# ta.volume.EaseOfMovementIndicator(high: pandas.core.series.Series, low: pandas.core.series.Series, volume: pandas.core.series.Series, window: int = 14, fillna: bool = False)\n",
        "df['EoM'] = ta.volume.EaseOfMovementIndicator(high, low, volume, 14).ease_of_movement()\n",
        "df['EMV'] = ta.volume.EaseOfMovementIndicator(high, low, volume, 14).sma_ease_of_movement()\n",
        "\n",
        "\n",
        "# Force Index (FI), illustrates how strong the actual buying or selling pressure is. High positive values mean there is a strong rising trend, and low values signify a strong downward trend\n",
        "# ta.volume.ForceIndexIndicator(close: pandas.core.series.Series, volume: pandas.core.series.Series, window: int = 13, fillna: bool = False)\n",
        "df['FI'] = ta.volume.ForceIndexIndicator(close, volume, 13).force_index()\n",
        "\n",
        "# Money Flow Index (MFI)\n",
        "# Uses both price and volume to measure buying and selling pressure. It is positive when the typical price rises (buying pressure) and negative when the typical price declines (selling pressure). A ratio of positive and negative money flow is then plugged into an RSI formula to create an oscillator that moves between zero and one hundred.\n",
        "# ta.volume.MFIIndicator(high: pandas.core.series.Series, low: pandas.core.series.Series, close: pandas.core.series.Series, volume: pandas.core.series.Series, window: int = 14, fillna: bool = False)\n",
        "df['MFI'] = ta.volume.MFIIndicator(high, low, close, volume, 14).money_flow_index()\n",
        "\n",
        "\n",
        "# Negative Volume Index (NVI)\n",
        "# ta.volume.NegativeVolumeIndexIndicator(close: pandas.core.series.Series, volume: pandas.core.series.Series, fillna: bool = False)\n",
        "df['NVI'] = ta.volume.NegativeVolumeIndexIndicator(close, volume).negative_volume_index()\n",
        "\n",
        "\n",
        "# On-balance volume (OBV), It relates price and volume in the stock market. OBV is based on a cumulative total volume.\n",
        "# ta.volume.OnBalanceVolumeIndicator(close: pandas.core.series.Series, volume: pandas.core.series.Series, fillna: bool = False)\n",
        "df['OBV'] = ta.volume.OnBalanceVolumeIndicator(close, volume).on_balance_volume()\n",
        "\n",
        "# Volume-price trend (VPT)\n",
        "# Is based on a running cumulative volume that adds or substracts a multiple of the percentage change in share price trend and current volume, depending upon the investment’s upward or downward movements.\n",
        "# ta.volume.VolumePriceTrendIndicator(close: pandas.core.series.Series, volume: pandas.core.series.Series, fillna: bool = False)\n",
        "df['VPT'] = ta.volume.VolumePriceTrendIndicator(close, volume).volume_price_trend()\n",
        "\n",
        "\n",
        "# Volume Weighted Average Price (VWAP)\n",
        "# VWAP equals the dollar value of all trading periods divided by the total trading volume for the current day. The calculation starts when trading opens and ends when it closes. Because it is good for the current trading day only, intraday periods and data are used in the calculation.\n",
        "# ta.volume.VolumeWeightedAveragePrice(high: pandas.core.series.Series, low: pandas.core.series.Series, close: pandas.core.series.Series, volume: pandas.core.series.Series, window: int = 14, fillna: bool = False)\n",
        "df['VWAP'] = ta.volume.VolumeWeightedAveragePrice(high, low, close, volume, 14).volume_weighted_average_price()\n",
        "\n",
        "\n",
        "\n",
        "\n"
      ]
    },
    {
      "cell_type": "code",
      "execution_count": 13,
      "id": "EHa1KZ062iYH",
      "metadata": {
        "id": "EHa1KZ062iYH"
      },
      "outputs": [],
      "source": [
        "# Volatility Indicators\n",
        "\n",
        "\n",
        "# Average True Range (ATR)\n",
        "# The indicator provide an indication of the degree of price volatility. Strong moves, in either direction, are often accompanied by large ranges, or large True Ranges.\n",
        "# ta.volatility.AverageTrueRange(high: pandas.core.series.Series, low: pandas.core.series.Series, close: pandas.core.series.Series, window: int = 14, fillna: bool = False)\n",
        "df['ATR'] = ta.volatility.AverageTrueRange(high, low, close, 14).average_true_range()\n",
        "\n",
        "\n",
        "# Bollinger Bands\n",
        "# ta.volatility.BollingerBands(close: pandas.core.series.Series, window: int = 20, window_dev: int = 2, fillna: bool = False)\n",
        "df['Bollinger_H'] = ta.volatility.BollingerBands(close, 20, 2).bollinger_hband()\n",
        "df['Bollinger_HI'] = ta.volatility.BollingerBands(close, 20, 2).bollinger_hband_indicator() #It returns 1, if close is higher than bollinger_hband. Else, it returns 0.\n",
        "df['Bollinger_L'] = ta.volatility.BollingerBands(close, 20, 2).bollinger_lband()\n",
        "df['Bollinger_LI'] = ta.volatility.BollingerBands(close, 20, 2).bollinger_lband_indicator() #It returns 1, if close is lower than bollinger_lband. Else, it returns 0.\n",
        "df['Bollinger_M'] = ta.volatility.BollingerBands(close, 20, 2).bollinger_mavg()\n",
        "df['Bollinger_P'] = ta.volatility.BollingerBands(close, 20, 2).bollinger_pband()\n",
        "df['Bollinger_W'] = ta.volatility.BollingerBands(close, 20, 2).bollinger_wband()\n",
        "\n",
        "# Donchian Channel\n",
        "# ta.volatility.DonchianChannel(high: pandas.core.series.Series, low: pandas.core.series.Series, close: pandas.core.series.Series, window: int = 20, offset: int = 0, fillna: bool = False)\n",
        "df['Donchian_H'] = ta.volatility.DonchianChannel(high, low, close, 20, 0).donchian_channel_hband()\n",
        "df['Donchian_L'] = ta.volatility.DonchianChannel(high, low, close, 20, 0).donchian_channel_lband()\n",
        "df['Donchian_M'] = ta.volatility.DonchianChannel(high, low, close, 20, 0).donchian_channel_mband()\n",
        "df['Donchian_P'] = ta.volatility.DonchianChannel(high, low, close, 20, 0).donchian_channel_pband()\n",
        "df['Donchian_W'] = ta.volatility.DonchianChannel(high, low, close, 20, 0).donchian_channel_wband()\n",
        "\n",
        "\n",
        "# Keltner Channels\n",
        "# ta.volatility.KeltnerChannel(high: pandas.core.series.Series, low: pandas.core.series.Series, close: pandas.core.series.Series, window: int = 20, window_atr: int = 10, fillna: bool = False, original_version: bool = True, multiplier: int = 2)\n",
        "df['Keltner_H'] = ta.volatility.KeltnerChannel(high, low, close, 20, 10, True, 2).keltner_channel_hband()\n",
        "df['Keltner_HI'] = ta.volatility.KeltnerChannel(high, low, close, 20, 10, True, 2).keltner_channel_hband_indicator()\n",
        "df['Keltner_L'] = ta.volatility.KeltnerChannel(high, low, close, 20, 10, True, 2).keltner_channel_lband()\n",
        "df['Keltner_LI'] = ta.volatility.KeltnerChannel(high, low, close, 20, 10, True, 2).keltner_channel_lband_indicator()\n",
        "df['Keltner_M'] = ta.volatility.KeltnerChannel(high, low, close, 20, 10, True, 2).keltner_channel_mband()\n",
        "df['Keltner_P'] = ta.volatility.KeltnerChannel(high, low, close, 20, 10, True, 2).keltner_channel_pband()\n",
        "df['Keltner_W'] = ta.volatility.KeltnerChannel(high, low, close, 20, 10, True, 2).keltner_channel_wband()\n",
        "\n",
        "\n",
        "# Ulcer Index\n",
        "# ta.volatility.UlcerIndex(close: pandas.core.series.Series, window: int = 14, fillna: bool = False)\n",
        "df['Ulcer'] = ta.volatility.UlcerIndex(close, 14).ulcer_index()\n",
        "\n",
        "\n",
        "\n"
      ]
    },
    {
      "cell_type": "code",
      "execution_count": 46,
      "id": "2dcf19b4-a346-417e-a989-b7e03e29ff22",
      "metadata": {
        "id": "2dcf19b4-a346-417e-a989-b7e03e29ff22"
      },
      "outputs": [],
      "source": [
        "# assuming your dataframe is named df, remove the top 500 lines so no NAs\n",
        "\n",
        "#df = df.drop(df.index[:500])\n",
        "\n",
        "\n",
        "#for column in df.columns:\n",
        " #   plt.figure()\n",
        "  #  plt.plot(df.index, df[column])\n",
        "   # plt.xlabel(\"Date\")\n",
        "    #plt.ylabel(column)\n",
        "    #plt.title(column)\n",
        "\n",
        "#plt.show()\n",
        "\n",
        "\n",
        "\n"
      ]
    },
    {
      "cell_type": "markdown",
      "id": "443b4c1a-7dda-48c9-9c01-151751562eaf",
      "metadata": {
        "id": "443b4c1a-7dda-48c9-9c01-151751562eaf"
      },
      "source": [
        "import matplotlib.backends.backend_pdf\n",
        "\n",
        "pdf_pages = matplotlib.backends.backend_pdf.PdfPages(\"C:/Users/AI Xia/SynologyDrive/Documents/Summer Fund/Data/file.pdf\")\n",
        "\n",
        "for column in df.columns:\n",
        "    plt.figure()\n",
        "    plt.plot(df.index, df[column])\n",
        "    plt.xlabel(\"Date\")\n",
        "    plt.ylabel(column)\n",
        "    plt.title(column)\n",
        "    pdf_pages.savefig()\n",
        "\n",
        "    \n",
        "pdf_pages.close()"
      ]
    },
    {
      "cell_type": "code",
      "execution_count": 47,
      "id": "cb828823-c1c3-4c57-8d7a-9ad606b24f57",
      "metadata": {
        "id": "cb828823-c1c3-4c57-8d7a-9ad606b24f57",
        "colab": {
          "base_uri": "https://localhost:8080/",
          "height": 17
        },
        "outputId": "8c74295f-8591-44a5-9db2-6370716c98bb"
      },
      "outputs": [
        {
          "output_type": "display_data",
          "data": {
            "text/plain": [
              "<IPython.core.display.Javascript object>"
            ],
            "application/javascript": [
              "\n",
              "    async function download(id, filename, size) {\n",
              "      if (!google.colab.kernel.accessAllowed) {\n",
              "        return;\n",
              "      }\n",
              "      const div = document.createElement('div');\n",
              "      const label = document.createElement('label');\n",
              "      label.textContent = `Downloading \"${filename}\": `;\n",
              "      div.appendChild(label);\n",
              "      const progress = document.createElement('progress');\n",
              "      progress.max = size;\n",
              "      div.appendChild(progress);\n",
              "      document.body.appendChild(div);\n",
              "\n",
              "      const buffers = [];\n",
              "      let downloaded = 0;\n",
              "\n",
              "      const channel = await google.colab.kernel.comms.open(id);\n",
              "      // Send a message to notify the kernel that we're ready.\n",
              "      channel.send({})\n",
              "\n",
              "      for await (const message of channel.messages) {\n",
              "        // Send a message to notify the kernel that we're ready.\n",
              "        channel.send({})\n",
              "        if (message.buffers) {\n",
              "          for (const buffer of message.buffers) {\n",
              "            buffers.push(buffer);\n",
              "            downloaded += buffer.byteLength;\n",
              "            progress.value = downloaded;\n",
              "          }\n",
              "        }\n",
              "      }\n",
              "      const blob = new Blob(buffers, {type: 'application/binary'});\n",
              "      const a = document.createElement('a');\n",
              "      a.href = window.URL.createObjectURL(blob);\n",
              "      a.download = filename;\n",
              "      div.appendChild(a);\n",
              "      a.click();\n",
              "      div.remove();\n",
              "    }\n",
              "  "
            ]
          },
          "metadata": {}
        },
        {
          "output_type": "display_data",
          "data": {
            "text/plain": [
              "<IPython.core.display.Javascript object>"
            ],
            "application/javascript": [
              "download(\"download_4b618d1e-6c7d-4c9c-8598-f80c94e446f6\", \"sample.csv\", 12792093)"
            ]
          },
          "metadata": {}
        }
      ],
      "source": [
        "# Save the data to a CSV file on the network drive\n",
        "df.to_csv('sample.csv', index=True)\n",
        "\n",
        "from google.colab import files\n",
        "files.download('sample.csv')"
      ]
    },
    {
      "cell_type": "code",
      "execution_count": 15,
      "id": "875bb09a-b604-42a9-85c5-d6df0e5ad1b3",
      "metadata": {
        "id": "875bb09a-b604-42a9-85c5-d6df0e5ad1b3"
      },
      "outputs": [],
      "source": []
    }
  ],
  "metadata": {
    "colab": {
      "provenance": [],
      "include_colab_link": true
    },
    "kernelspec": {
      "display_name": "Python 3 (ipykernel)",
      "language": "python",
      "name": "python3"
    },
    "language_info": {
      "codemirror_mode": {
        "name": "ipython",
        "version": 3
      },
      "file_extension": ".py",
      "mimetype": "text/x-python",
      "name": "python",
      "nbconvert_exporter": "python",
      "pygments_lexer": "ipython3",
      "version": "3.9.13"
    },
    "gpuClass": "standard"
  },
  "nbformat": 4,
  "nbformat_minor": 5
}